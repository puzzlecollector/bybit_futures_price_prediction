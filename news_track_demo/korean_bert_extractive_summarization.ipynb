{
 "cells": [
  {
   "cell_type": "markdown",
   "metadata": {},
   "source": [
    "https://github.com/dmmiller612/bert-extractive-summarizer/tree/f94c0243954171b2e5233d2624a8d2fcad1ea9ba 사용 \n",
    "\n",
    "huggingface의 multilingual BERT를 베이스로 하는 모델 사용. "
   ]
  },
  {
   "cell_type": "markdown",
   "metadata": {},
   "source": [
    "# Example 1\n",
    "\n",
    "3줄 추출 요약 "
   ]
  },
  {
   "cell_type": "code",
   "execution_count": 20,
   "metadata": {},
   "outputs": [
    {
     "name": "stderr",
     "output_type": "stream",
     "text": [
      "Some weights of the model checkpoint at bert-base-multilingual-cased were not used when initializing BertModel: ['cls.predictions.transform.LayerNorm.weight', 'cls.predictions.transform.dense.weight', 'cls.predictions.decoder.weight', 'cls.predictions.transform.dense.bias', 'cls.predictions.bias', 'cls.seq_relationship.bias', 'cls.seq_relationship.weight', 'cls.predictions.transform.LayerNorm.bias']\n",
      "- This IS expected if you are initializing BertModel from the checkpoint of a model trained on another task or with another architecture (e.g. initializing a BertForSequenceClassification model from a BertForPreTraining model).\n",
      "- This IS NOT expected if you are initializing BertModel from the checkpoint of a model that you expect to be exactly identical (initializing a BertForSequenceClassification model from a BertForSequenceClassification model).\n"
     ]
    },
    {
     "data": {
      "text/plain": [
       "'2020년 12월 5일, 스위스 융프라우에서는 1912년 융프라우철도 개통에 못지않은 새로운 역사가 시작되었다. 개통 전 자체 수력 발전소를 운영할 만큼 자연 그대로의 원료 수급과 환경 보호를 주요 가치로 삼은 융프라우 철도의 기업 철학에 따라 아이거 익스프레스는 엄격한 스위스 환경정책을 통과하고, 연방정부와 주민들의 승인을 통과하기까지 장장 5년이란 시간이 걸렸다. 코로나19 팬데믹 상황이 한참이던 2020년 12월 개통했으나 1년 동안 200만 명이 넘는 여행객이 아이거 익스프레스를 이용했다.'"
      ]
     },
     "execution_count": 20,
     "metadata": {},
     "output_type": "execute_result"
    }
   ],
   "source": [
    "from transformers import *\n",
    "from summarizer import Summarizer\n",
    "\n",
    "body = '''\n",
    "2020년 12월 5일, 스위스 융프라우에서는 1912년 융프라우철도 개통에 못지않은 새로운 역사가 시작되었다. 바로 ‘아이거 익스프레스Eiger Express’ 고속곤돌라가 개통한 것이다. 융프라우철도Jungfraubahn가 5,800억 원을 투입해 3년여 준비 끝에 완공한 이 고속곤돌라는 그린델발트Grindelwald 터미널(943m)과 아이거글레처Eigergletscher(2,320m)를 잇는 고도차 1,377m, 거리 6.5km의 케이블웨이Cableway다.\n",
    "\n",
    "26명이 탈 수 있는 초대형 곤돌라 캐빈Cabin(탑승공간)은 전체가 열선이 깔린 통유리창이어서 주변 경관을 막힘없이 감상할 수 있다. 시속 100km 강풍도 견딜 수 있을 뿐만 아니라 40초의 짧은 운행 간격, 난방 좌석, 무료 WI-FI 서비스로 탑승객의 안락함과 편의성을 극대화했다. 무엇보다 만족스러운 것은 이동 속도이다. 아이거 익스프레스는 유럽에서 최초로 8m/s(시속 28.8km)의 속도를 구현해 그린델발트 터미널~아이거글레처의 6.5km 거리를 단 15분 만에 주파한다.\n",
    "\n",
    "기존에는 그린델발트 철도역에서 베르너오버란트 철도BOB를 타고 클라이네샤이데크까지 가서 다시 융프라우 철도JB로 갈아타 융프라우요흐까지 가면 1시간 27분이 걸렸다. 이제 아이거 익스프레스를 이용하면 그린델발트역에서 아이거 글레처역까지 15분이 걸리고, 다시 철도를 타고 융프라우요흐까지 25분이 걸려 단 40분 만에 도착할 수 있게 되었다. 이는 기존 대비 편도 47분(그린델발트 터미널 이용 시 43분), 왕복 94분이나 이동시간을 단축시킨 것이다. ‘융프라우 철도에 이은 새로운 역사를 만들었다’는 말이 괜히 나온 것이 아니다.아이거 익스프레스의 속도와 안정성의 비결은 세 개의 연결 로프에 있다. 3Sdrei-seil, tri-cable 케이블 공법은 기존 케이블카와 ‘푸니쿨라(열차형 케이블카)’의 장점을 모두 갖춘 가장 최첨단 시스템으로 평가받는다. 6.5km 구간에 지구가 단 7개에 불과해 건설비용은 4~5배 더 들지만 환경과 경관을 보존할 수 있는 친환경적 장점이 있다. 개통 전 자체 수력 발전소를 운영할 만큼 자연 그대로의 원료 수급과 환경 보호를 주요 가치로 삼은 융프라우 철도의 기업 철학에 따라 아이거 익스프레스는 엄격한 스위스 환경정책을 통과하고, 연방정부와 주민들의 승인을 통과하기까지 장장 5년이란 시간이 걸렸다. \n",
    "\n",
    "코로나19 팬데믹 상황이 한참이던 2020년 12월 개통했으나 1년 동안 200만 명이 넘는 여행객이 아이거 익스프레스를 이용했다. 뿐만 아니다. 탑승장인 그린델발트 터미널은 스위스에서 가장 명예로운 모빌리티 어워즈 중 하나인 ‘FLUX-Golden Transport Hub’에서 특별상을 수상했다. \n",
    "\n",
    "'''\n",
    "tokenizer = BertTokenizer.from_pretrained('bert-base-multilingual-cased')\n",
    "model = BertModel.from_pretrained(\"bert-base-multilingual-cased\", output_hidden_states=True)\n",
    "\n",
    "ext_sum_model = Summarizer(custom_model = model,\n",
    "                           custom_tokenizer = tokenizer) \n",
    "\n",
    "ext_sum_model(body, num_sentences=3)\n"
   ]
  },
  {
   "cell_type": "markdown",
   "metadata": {},
   "source": [
    "# Example 2\n",
    "\n",
    "3줄 추출 요약"
   ]
  },
  {
   "cell_type": "code",
   "execution_count": 21,
   "metadata": {},
   "outputs": [
    {
     "data": {
      "text/plain": [
       "'서울시는 \\'미세먼지 계절관리제\\' 기간인 지난달부터 오는 3월까지 4개월간 드론에 측정장치를 달아 미세먼지 집중 관리를 실시하고 있다. 영상을 통해 미세먼지 방지 시설을 제대로 가동하지 않는 업체와 무허가 시설에 대한 단속이 한층 수월해질 전망이다. 소방청 관계자는 \"소방드론은 재난현장에서 영상정보를 수집, 산악ㆍ수난 사고 시 인명수색·구조활동,\\n유독가스·폭발사고 시 대원안전 확보 등에 활용된다\"며\\n\"향후 화재진압, 인명구조 등에도 드론을 활용하기 위해 연구개발(R&D)을 하고 있다\"고 말했다.'"
      ]
     },
     "execution_count": 21,
     "metadata": {},
     "output_type": "execute_result"
    }
   ],
   "source": [
    "body = '''드론 활용 범위도 점차 확대되고 있다. 최근에는 미세먼지 관리에 드론이 활용되고 있다.\n",
    "서울시는 '미세먼지 계절관리제' 기간인 지난달부터 오는 3월까지 4개월간 드론에 측정장치를 달아 미세먼지 집중 관리를 실시하고 있다.\n",
    "드론은 산업단지와 사업장 밀집지역을 날아다니며 미세먼지 배출 수치를 점검하고, 현장 모습을 영상으로 담는다.\n",
    "영상을 통해 미세먼지 방지 시설을 제대로 가동하지 않는 업체와 무허가 시설에 대한 단속이 한층 수월해질 전망이다.\n",
    "드론 활용에 가장 적극적인 소방청은 광범위하고 복합적인 재난 대응 차원에서 드론과 관련 전문인력 보강을 꾸준히 이어가고 있다.\n",
    "지난해 말 기준 소방청이 보유한 드론은 총 304대, 드론 조종 자격증을 갖춘 소방대원의 경우 1,860명이다.\n",
    "이 중 실기평가지도 자격증까지 갖춘 ‘드론 전문가’ 21명도 배치돼 있다.\n",
    "소방청 관계자는 \"소방드론은 재난현장에서 영상정보를 수집, 산악ㆍ수난 사고 시 인명수색·구조활동,\n",
    "유독가스·폭발사고 시 대원안전 확보 등에 활용된다\"며\n",
    "\"향후 화재진압, 인명구조 등에도 드론을 활용하기 위해 연구개발(R&D)을 하고 있다\"고 말했다.\n",
    "'''\n",
    "\n",
    "ext_sum_model(body, num_sentences=3)"
   ]
  }
 ],
 "metadata": {
  "kernelspec": {
   "display_name": "Python 3",
   "language": "python",
   "name": "python3"
  },
  "language_info": {
   "codemirror_mode": {
    "name": "ipython",
    "version": 3
   },
   "file_extension": ".py",
   "mimetype": "text/x-python",
   "name": "python",
   "nbconvert_exporter": "python",
   "pygments_lexer": "ipython3",
   "version": "3.8.5"
  }
 },
 "nbformat": 4,
 "nbformat_minor": 4
}
